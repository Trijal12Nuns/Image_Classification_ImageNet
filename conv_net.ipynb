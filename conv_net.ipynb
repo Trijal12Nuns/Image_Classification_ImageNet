{
 "cells": [
  {
   "cell_type": "code",
   "execution_count": 4,
   "metadata": {},
   "outputs": [],
   "source": [
    "import pickle\n",
    "import numpy as np"
   ]
  },
  {
   "cell_type": "code",
   "execution_count": 5,
   "metadata": {},
   "outputs": [],
   "source": [
    "x=pickle.load(open(\"x.pickle\",\"rb\"))\n",
    "y=pickle.load(open(\"y.pickle\",\"rb\"))"
   ]
  },
  {
   "cell_type": "code",
   "execution_count": 6,
   "metadata": {
    "scrolled": false
   },
   "outputs": [
    {
     "data": {
      "text/plain": [
       "numpy.ndarray"
      ]
     },
     "execution_count": 6,
     "metadata": {},
     "output_type": "execute_result"
    }
   ],
   "source": [
    "type(x)"
   ]
  },
  {
   "cell_type": "code",
   "execution_count": 25,
   "metadata": {},
   "outputs": [],
   "source": [
    "y=np.array(y)"
   ]
  },
  {
   "cell_type": "code",
   "execution_count": 8,
   "metadata": {},
   "outputs": [],
   "source": [
    "# First of all we will import all the necessary libraries of keras or any other framework//.\n",
    "import tensorflow as tf\n",
    "from tensorflow.keras.models import Sequential\n",
    "from tensorflow.keras.layers import Dense,Conv2D,MaxPooling2D,Flatten,Dropout,Activation"
   ]
  },
  {
   "cell_type": "code",
   "execution_count": 9,
   "metadata": {
    "scrolled": true
   },
   "outputs": [
    {
     "name": "stdout",
     "output_type": "stream",
     "text": [
      "24946\n"
     ]
    }
   ],
   "source": [
    "print(len(x))"
   ]
  },
  {
   "cell_type": "code",
   "execution_count": 10,
   "metadata": {},
   "outputs": [
    {
     "name": "stdout",
     "output_type": "stream",
     "text": [
      "24946\n",
      "(50, 50, 1)\n",
      "[[[[0.35686275]\n",
      "   [0.35294118]\n",
      "   [0.34117647]\n",
      "   ...\n",
      "   [0.58431373]\n",
      "   [0.58039216]\n",
      "   [0.34509804]]\n",
      "\n",
      "  [[0.38039216]\n",
      "   [0.38039216]\n",
      "   [0.36862745]\n",
      "   ...\n",
      "   [0.58823529]\n",
      "   [0.43529412]\n",
      "   [0.25098039]]\n",
      "\n",
      "  [[0.4       ]\n",
      "   [0.4       ]\n",
      "   [0.38823529]\n",
      "   ...\n",
      "   [0.58431373]\n",
      "   [0.38431373]\n",
      "   [0.23137255]]\n",
      "\n",
      "  ...\n",
      "\n",
      "  [[0.58823529]\n",
      "   [0.59607843]\n",
      "   [0.61960784]\n",
      "   ...\n",
      "   [0.50980392]\n",
      "   [0.47843137]\n",
      "   [0.48235294]]\n",
      "\n",
      "  [[0.59607843]\n",
      "   [0.61568627]\n",
      "   [0.6       ]\n",
      "   ...\n",
      "   [0.49019608]\n",
      "   [0.49019608]\n",
      "   [0.48235294]]\n",
      "\n",
      "  [[0.59607843]\n",
      "   [0.61176471]\n",
      "   [0.59607843]\n",
      "   ...\n",
      "   [0.49411765]\n",
      "   [0.48235294]\n",
      "   [0.49411765]]]\n",
      "\n",
      "\n",
      " [[[0.6627451 ]\n",
      "   [0.69019608]\n",
      "   [0.65098039]\n",
      "   ...\n",
      "   [0.10196078]\n",
      "   [0.16078431]\n",
      "   [0.30980392]]\n",
      "\n",
      "  [[0.67058824]\n",
      "   [0.68627451]\n",
      "   [0.58431373]\n",
      "   ...\n",
      "   [0.16470588]\n",
      "   [0.17254902]\n",
      "   [0.33333333]]\n",
      "\n",
      "  [[0.67058824]\n",
      "   [0.63137255]\n",
      "   [0.54901961]\n",
      "   ...\n",
      "   [0.15294118]\n",
      "   [0.17647059]\n",
      "   [0.30980392]]\n",
      "\n",
      "  ...\n",
      "\n",
      "  [[0.10980392]\n",
      "   [0.12156863]\n",
      "   [0.1372549 ]\n",
      "   ...\n",
      "   [0.36470588]\n",
      "   [0.50980392]\n",
      "   [0.25882353]]\n",
      "\n",
      "  [[0.11764706]\n",
      "   [0.12941176]\n",
      "   [0.14509804]\n",
      "   ...\n",
      "   [0.50980392]\n",
      "   [0.29411765]\n",
      "   [0.2627451 ]]\n",
      "\n",
      "  [[0.16470588]\n",
      "   [0.14117647]\n",
      "   [0.05882353]\n",
      "   ...\n",
      "   [0.30196078]\n",
      "   [0.2627451 ]\n",
      "   [0.24313725]]]\n",
      "\n",
      "\n",
      " [[[0.3372549 ]\n",
      "   [0.36078431]\n",
      "   [0.36078431]\n",
      "   ...\n",
      "   [0.15294118]\n",
      "   [0.16078431]\n",
      "   [0.15294118]]\n",
      "\n",
      "  [[0.32941176]\n",
      "   [0.32941176]\n",
      "   [0.34901961]\n",
      "   ...\n",
      "   [0.11764706]\n",
      "   [0.1372549 ]\n",
      "   [0.1254902 ]]\n",
      "\n",
      "  [[0.33333333]\n",
      "   [0.34509804]\n",
      "   [0.35294118]\n",
      "   ...\n",
      "   [0.13333333]\n",
      "   [0.12156863]\n",
      "   [0.1254902 ]]\n",
      "\n",
      "  ...\n",
      "\n",
      "  [[0.19215686]\n",
      "   [0.3254902 ]\n",
      "   [0.34901961]\n",
      "   ...\n",
      "   [0.61568627]\n",
      "   [0.61176471]\n",
      "   [0.61960784]]\n",
      "\n",
      "  [[0.31764706]\n",
      "   [0.58431373]\n",
      "   [0.2       ]\n",
      "   ...\n",
      "   [0.60784314]\n",
      "   [0.59215686]\n",
      "   [0.59215686]]\n",
      "\n",
      "  [[0.19607843]\n",
      "   [0.45098039]\n",
      "   [0.40392157]\n",
      "   ...\n",
      "   [0.63137255]\n",
      "   [0.62745098]\n",
      "   [0.58823529]]]\n",
      "\n",
      "\n",
      " ...\n",
      "\n",
      "\n",
      " [[[0.32156863]\n",
      "   [0.3254902 ]\n",
      "   [0.30196078]\n",
      "   ...\n",
      "   [0.29411765]\n",
      "   [0.29411765]\n",
      "   [0.30196078]]\n",
      "\n",
      "  [[0.36470588]\n",
      "   [0.40392157]\n",
      "   [0.38431373]\n",
      "   ...\n",
      "   [0.32941176]\n",
      "   [0.29803922]\n",
      "   [0.31764706]]\n",
      "\n",
      "  [[0.34901961]\n",
      "   [0.33333333]\n",
      "   [0.32941176]\n",
      "   ...\n",
      "   [0.29019608]\n",
      "   [0.29411765]\n",
      "   [0.30588235]]\n",
      "\n",
      "  ...\n",
      "\n",
      "  [[0.69803922]\n",
      "   [0.5372549 ]\n",
      "   [0.62352941]\n",
      "   ...\n",
      "   [0.82352941]\n",
      "   [0.6       ]\n",
      "   [0.65882353]]\n",
      "\n",
      "  [[0.4745098 ]\n",
      "   [0.53333333]\n",
      "   [0.68627451]\n",
      "   ...\n",
      "   [0.51372549]\n",
      "   [0.67843137]\n",
      "   [0.82745098]]\n",
      "\n",
      "  [[0.7254902 ]\n",
      "   [0.63921569]\n",
      "   [0.45098039]\n",
      "   ...\n",
      "   [0.4745098 ]\n",
      "   [0.5254902 ]\n",
      "   [0.62745098]]]\n",
      "\n",
      "\n",
      " [[[0.45882353]\n",
      "   [0.45882353]\n",
      "   [0.43137255]\n",
      "   ...\n",
      "   [0.39215686]\n",
      "   [0.39215686]\n",
      "   [0.44705882]]\n",
      "\n",
      "  [[0.47058824]\n",
      "   [0.45098039]\n",
      "   [0.43921569]\n",
      "   ...\n",
      "   [0.37254902]\n",
      "   [0.38039216]\n",
      "   [0.68627451]]\n",
      "\n",
      "  [[0.43921569]\n",
      "   [0.54509804]\n",
      "   [0.40392157]\n",
      "   ...\n",
      "   [0.38431373]\n",
      "   [0.4       ]\n",
      "   [0.84705882]]\n",
      "\n",
      "  ...\n",
      "\n",
      "  [[0.93333333]\n",
      "   [0.93333333]\n",
      "   [0.93333333]\n",
      "   ...\n",
      "   [0.89019608]\n",
      "   [0.89803922]\n",
      "   [0.93333333]]\n",
      "\n",
      "  [[0.93333333]\n",
      "   [0.93333333]\n",
      "   [0.93333333]\n",
      "   ...\n",
      "   [0.91764706]\n",
      "   [0.9254902 ]\n",
      "   [0.92941176]]\n",
      "\n",
      "  [[0.93333333]\n",
      "   [0.93333333]\n",
      "   [0.93333333]\n",
      "   ...\n",
      "   [0.9372549 ]\n",
      "   [0.93333333]\n",
      "   [0.91764706]]]\n",
      "\n",
      "\n",
      " [[[0.1372549 ]\n",
      "   [0.11372549]\n",
      "   [0.10196078]\n",
      "   ...\n",
      "   [0.09411765]\n",
      "   [0.10588235]\n",
      "   [0.10980392]]\n",
      "\n",
      "  [[0.14117647]\n",
      "   [0.1254902 ]\n",
      "   [0.10588235]\n",
      "   ...\n",
      "   [0.09803922]\n",
      "   [0.10980392]\n",
      "   [0.11372549]]\n",
      "\n",
      "  [[0.12941176]\n",
      "   [0.13333333]\n",
      "   [0.10980392]\n",
      "   ...\n",
      "   [0.10196078]\n",
      "   [0.12156863]\n",
      "   [0.1372549 ]]\n",
      "\n",
      "  ...\n",
      "\n",
      "  [[0.3372549 ]\n",
      "   [0.24313725]\n",
      "   [0.36862745]\n",
      "   ...\n",
      "   [0.10196078]\n",
      "   [0.01568627]\n",
      "   [0.03529412]]\n",
      "\n",
      "  [[0.23529412]\n",
      "   [0.4       ]\n",
      "   [0.31372549]\n",
      "   ...\n",
      "   [0.03137255]\n",
      "   [0.03921569]\n",
      "   [0.03921569]]\n",
      "\n",
      "  [[0.32941176]\n",
      "   [0.36470588]\n",
      "   [0.29411765]\n",
      "   ...\n",
      "   [0.03137255]\n",
      "   [0.02745098]\n",
      "   [0.04313725]]]]\n"
     ]
    }
   ],
   "source": [
    "x=x/255.0\n",
    "print (len(x))\n",
    "print(x.shape[1:])\n",
    "print (x)"
   ]
  },
  {
   "cell_type": "code",
   "execution_count": 9,
   "metadata": {},
   "outputs": [
    {
     "name": "stdout",
     "output_type": "stream",
     "text": [
      "24946\n",
      "702/702 [==============================] - 70s 100ms/step - loss: 0.6187 - accuracy: 0.6487 - val_loss: 0.5618 - val_accuracy: 0.7150\n"
     ]
    },
    {
     "data": {
      "text/plain": [
       "<tensorflow.python.keras.callbacks.History at 0x27ea5762f40>"
      ]
     },
     "execution_count": 9,
     "metadata": {},
     "output_type": "execute_result"
    }
   ],
   "source": [
    "# Now we are good to go for Building our Convolutional Neural Network///.\n",
    "\n",
    "model = Sequential()\n",
    "\n",
    "model.add(Conv2D(64,(3,3),input_shape=x.shape[1:]))\n",
    "model.add(Activation(\"relu\"))\n",
    "model.add(MaxPooling2D(pool_size=(2,2)))\n",
    "\n",
    "model.add(Conv2D(64,(3,3)))\n",
    "model.add(Activation(\"relu\"))\n",
    "model.add(MaxPooling2D(pool_size=(2,2)))\n",
    " \n",
    "model.add(Flatten())\n",
    "model.add(Dense(64 , activation = 'relu')) # We are gonna add Dense layers which will be having 64 Nodes. maybe hidden layer. \n",
    "\n",
    "# Now we are gonna add the output layer.\n",
    "\n",
    "model.add(Dense(1))\n",
    "model.add(Activation(\"sigmoid\"))\n",
    "#After adding all the necessary layers we are gonna compile with the optimizers and metrics with adequate loss funcn.\n",
    "model.compile(optimizer = \"adam\" , loss = \"binary_crossentropy\", metrics = ['accuracy'])\n",
    "# we noticed that the negative results starts coming out if we increase the batch size , so that should not be too large.\n",
    "print(len(y))\n",
    "model.fit(x, y, batch_size = 32 , epochs =1 , validation_split=0.1)\n",
    "#model.save('64x2 ConvLayer')\n",
    "\n"
   ]
  },
  {
   "cell_type": "code",
   "execution_count": 2,
   "metadata": {},
   "outputs": [
    {
     "name": "stdout",
     "output_type": "stream",
     "text": [
      "Requirement already satisfied: TensorBoard in c:\\users\\hp\\appdata\\local\\programs\\python\\python38\\lib\\site-packages (2.3.0)\n",
      "Requirement already satisfied: werkzeug>=0.11.15 in c:\\users\\hp\\appdata\\local\\programs\\python\\python38\\lib\\site-packages (from TensorBoard) (1.0.1)\n",
      "Requirement already satisfied: absl-py>=0.4 in c:\\users\\hp\\appdata\\local\\programs\\python\\python38\\lib\\site-packages (from TensorBoard) (0.11.0)\n",
      "Requirement already satisfied: requests<3,>=2.21.0 in c:\\users\\hp\\appdata\\local\\programs\\python\\python38\\lib\\site-packages (from TensorBoard) (2.24.0)\n",
      "Requirement already satisfied: markdown>=2.6.8 in c:\\users\\hp\\appdata\\local\\programs\\python\\python38\\lib\\site-packages (from TensorBoard) (3.3.3)\n",
      "Requirement already satisfied: grpcio>=1.24.3 in c:\\users\\hp\\appdata\\local\\programs\\python\\python38\\lib\\site-packages (from TensorBoard) (1.33.2)\n",
      "Requirement already satisfied: numpy>=1.12.0 in c:\\users\\hp\\appdata\\local\\programs\\python\\python38\\lib\\site-packages (from TensorBoard) (1.19.0)\n",
      "Requirement already satisfied: six>=1.10.0 in c:\\users\\hp\\appdata\\local\\programs\\python\\python38\\lib\\site-packages (from TensorBoard) (1.15.0)\n",
      "Requirement already satisfied: wheel>=0.26; python_version >= \"3\" in c:\\users\\hp\\appdata\\local\\programs\\python\\python38\\lib\\site-packages (from TensorBoard) (0.35.1)\n",
      "Requirement already satisfied: tensorboard-plugin-wit>=1.6.0 in c:\\users\\hp\\appdata\\local\\programs\\python\\python38\\lib\\site-packages (from TensorBoard) (1.7.0)\n",
      "Requirement already satisfied: google-auth-oauthlib<0.5,>=0.4.1 in c:\\users\\hp\\appdata\\local\\programs\\python\\python38\\lib\\site-packages (from TensorBoard) (0.4.2)\n",
      "Requirement already satisfied: protobuf>=3.6.0 in c:\\users\\hp\\appdata\\local\\programs\\python\\python38\\lib\\site-packages (from TensorBoard) (3.13.0)\n",
      "Requirement already satisfied: google-auth<2,>=1.6.3 in c:\\users\\hp\\appdata\\local\\programs\\python\\python38\\lib\\site-packages (from TensorBoard) (1.23.0)\n",
      "Requirement already satisfied: setuptools>=41.0.0 in c:\\users\\hp\\appdata\\local\\programs\\python\\python38\\lib\\site-packages (from TensorBoard) (41.2.0)\n",
      "Requirement already satisfied: chardet<4,>=3.0.2 in c:\\users\\hp\\appdata\\local\\programs\\python\\python38\\lib\\site-packages (from requests<3,>=2.21.0->TensorBoard) (3.0.4)\n",
      "Requirement already satisfied: urllib3!=1.25.0,!=1.25.1,<1.26,>=1.21.1 in c:\\users\\hp\\appdata\\local\\programs\\python\\python38\\lib\\site-packages (from requests<3,>=2.21.0->TensorBoard) (1.25.10)\n",
      "Requirement already satisfied: certifi>=2017.4.17 in c:\\users\\hp\\appdata\\local\\programs\\python\\python38\\lib\\site-packages (from requests<3,>=2.21.0->TensorBoard) (2020.6.20)\n",
      "Requirement already satisfied: idna<3,>=2.5 in c:\\users\\hp\\appdata\\local\\programs\\python\\python38\\lib\\site-packages (from requests<3,>=2.21.0->TensorBoard) (2.10)\n",
      "Requirement already satisfied: requests-oauthlib>=0.7.0 in c:\\users\\hp\\appdata\\local\\programs\\python\\python38\\lib\\site-packages (from google-auth-oauthlib<0.5,>=0.4.1->TensorBoard) (1.3.0)\n",
      "Requirement already satisfied: cachetools<5.0,>=2.0.0 in c:\\users\\hp\\appdata\\local\\programs\\python\\python38\\lib\\site-packages (from google-auth<2,>=1.6.3->TensorBoard) (4.1.1)\n",
      "Requirement already satisfied: rsa<5,>=3.1.4; python_version >= \"3.5\" in c:\\users\\hp\\appdata\\local\\programs\\python\\python38\\lib\\site-packages (from google-auth<2,>=1.6.3->TensorBoard) (4.6)\n",
      "Requirement already satisfied: pyasn1-modules>=0.2.1 in c:\\users\\hp\\appdata\\local\\programs\\python\\python38\\lib\\site-packages (from google-auth<2,>=1.6.3->TensorBoard) (0.2.8)\n",
      "Requirement already satisfied: oauthlib>=3.0.0 in c:\\users\\hp\\appdata\\local\\programs\\python\\python38\\lib\\site-packages (from requests-oauthlib>=0.7.0->google-auth-oauthlib<0.5,>=0.4.1->TensorBoard) (3.1.0)\n",
      "Requirement already satisfied: pyasn1>=0.1.3 in c:\\users\\hp\\appdata\\local\\programs\\python\\python38\\lib\\site-packages (from rsa<5,>=3.1.4; python_version >= \"3.5\"->google-auth<2,>=1.6.3->TensorBoard) (0.4.8)\n",
      "Note: you may need to restart the kernel to use updated packages.\n"
     ]
    },
    {
     "name": "stderr",
     "output_type": "stream",
     "text": [
      "WARNING: You are using pip version 19.2.3, however version 20.2.4 is available.\n",
      "You should consider upgrading via the 'python -m pip install --upgrade pip' command.\n"
     ]
    }
   ],
   "source": [
    "pip install TensorBoard"
   ]
  },
  {
   "cell_type": "code",
   "execution_count": 11,
   "metadata": {},
   "outputs": [],
   "source": [
    "from tensorflow.keras.callbacks import TensorBoard\n",
    "import time"
   ]
  },
  {
   "cell_type": "code",
   "execution_count": 12,
   "metadata": {},
   "outputs": [
    {
     "name": "stdout",
     "output_type": "stream",
     "text": [
      "3-conv-64-nodes-0-dense1606572150\n",
      "  1/546 [..............................] - ETA: 0s - loss: 0.6973 - accuracy: 0.3750WARNING:tensorflow:From c:\\users\\hp\\appdata\\local\\programs\\python\\python38\\lib\\site-packages\\tensorflow\\python\\ops\\summary_ops_v2.py:1277: stop (from tensorflow.python.eager.profiler) is deprecated and will be removed after 2020-07-01.\n",
      "Instructions for updating:\n",
      "use `tf.profiler.experimental.stop` instead.\n",
      "  2/546 [..............................] - ETA: 2:31 - loss: 0.6968 - accuracy: 0.4219WARNING:tensorflow:Callbacks method `on_train_batch_end` is slow compared to the batch time (batch time: 0.0968s vs `on_train_batch_end` time: 0.4429s). Check your callbacks.\n",
      "546/546 [==============================] - 63s 116ms/step - loss: 0.6364 - accuracy: 0.6290 - val_loss: 0.5662 - val_accuracy: 0.7040\n",
      "WARNING:tensorflow:From c:\\users\\hp\\appdata\\local\\programs\\python\\python38\\lib\\site-packages\\tensorflow\\python\\training\\tracking\\tracking.py:111: Model.state_updates (from tensorflow.python.keras.engine.training) is deprecated and will be removed in a future version.\n",
      "Instructions for updating:\n",
      "This property should not be used in TensorFlow 2.0, as updates are applied automatically.\n",
      "WARNING:tensorflow:From c:\\users\\hp\\appdata\\local\\programs\\python\\python38\\lib\\site-packages\\tensorflow\\python\\training\\tracking\\tracking.py:111: Layer.updates (from tensorflow.python.keras.engine.base_layer) is deprecated and will be removed in a future version.\n",
      "Instructions for updating:\n",
      "This property should not be used in TensorFlow 2.0, as updates are applied automatically.\n",
      "INFO:tensorflow:Assets written to: 64x3-CNN.model\\assets\n"
     ]
    }
   ],
   "source": [
    "\n",
    "dense_layers=[0]\n",
    "layer_sizes=[64]\n",
    "conv_layers=[3]\n",
    "\n",
    "for dense_layer in dense_layers:\n",
    "    for layer_size in layer_sizes:\n",
    "        for conv_layer in conv_layers:\n",
    "            NAME = \"{}-conv-{}-nodes-{}-dense{}\".format(conv_layer,layer_size,dense_layer,int(time.time()))\n",
    "            print(NAME)\n",
    "            \n",
    "            model = Sequential()\n",
    "            \n",
    "            model.add(Conv2D(layer_size,(3,3),input_shape=x.shape[1:]))\n",
    "            model.add(Activation(\"relu\"))\n",
    "            model.add(MaxPooling2D(pool_size=(2,2)))\n",
    "            \n",
    "            for l in range(conv_layer - 1):\n",
    "                model.add(Conv2D(layer_size,(3,3)))\n",
    "                model.add(Activation(\"relu\"))\n",
    "                model.add(MaxPooling2D(pool_size=(2,2)))\n",
    "\n",
    "            model.add(Flatten())\n",
    "            for _ in range(dense_layer):\n",
    "                model.add(Dense(layer_size , activation = 'relu')) \n",
    "                # We are gonna add Dense layers which will be having 64 Nodes. maybe hidden layer. \n",
    "\n",
    "            # Now we are gonna add the output layer.\n",
    "\n",
    "            model.add(Dense(1))\n",
    "            model.add(Activation(\"sigmoid\"))\n",
    "            #After adding all the necessary layers we are gonna compile with the optimizers and metrics with adequate loss funcn.\n",
    "            tensorboard = TensorBoard(log_dir = \"logs/{}\".format(NAME)) \n",
    "            model.compile(optimizer = \"adam\" , loss = \"binary_crossentropy\", metrics = ['accuracy'])\n",
    "            # we noticed that the negative results starts coming out if we increase the batch size , so that should not be too large.\n",
    "            model.fit(x, y, batch_size = 32 , epochs =1 , validation_split=0.3,callbacks=[tensorboard])\n",
    "\n",
    "model.save('64x3-CNN.model')"
   ]
  },
  {
   "cell_type": "code",
   "execution_count": 58,
   "metadata": {
    "scrolled": true
   },
   "outputs": [
    {
     "data": {
      "image/png": "[encoded data removed]",
      "text/plain": [
       "<Figure size 432x288 with 1 Axes>"
      ]
     },
     "metadata": {
      "needs_background": "light"
     },
     "output_type": "display_data"
    },
    {
     "data": {
      "text/plain": [
       "array([[[[197],\n",
       "         [191],\n",
       "         [179],\n",
       "         ...,\n",
       "         [192],\n",
       "         [195],\n",
       "         [194]],\n",
       "\n",
       "        [[198],\n",
       "         [198],\n",
       "         [191],\n",
       "         ...,\n",
       "         [193],\n",
       "         [192],\n",
       "         [191]],\n",
       "\n",
       "        [[201],\n",
       "         [197],\n",
       "         [197],\n",
       "         ...,\n",
       "         [191],\n",
       "         [191],\n",
       "         [190]],\n",
       "\n",
       "        ...,\n",
       "\n",
       "        [[191],\n",
       "         [183],\n",
       "         [226],\n",
       "         ...,\n",
       "         [ 36],\n",
       "         [ 36],\n",
       "         [ 70]],\n",
       "\n",
       "        [[180],\n",
       "         [188],\n",
       "         [227],\n",
       "         ...,\n",
       "         [ 28],\n",
       "         [ 69],\n",
       "         [111]],\n",
       "\n",
       "        [[233],\n",
       "         [207],\n",
       "         [197],\n",
       "         ...,\n",
       "         [ 57],\n",
       "         [ 74],\n",
       "         [188]]]], dtype=uint8)"
      ]
     },
     "execution_count": 58,
     "metadata": {},
     "output_type": "execute_result"
    }
   ],
   "source": [
    "# After building the model Question may arise is that ( How to use our trained model >>>? )\n",
    "import cv2\n",
    "import tensorflow as tf\n",
    "import matplotlib.pyplot as plt\n",
    "\n",
    "CATEGORIES = ['Dog' ,'Cat']\n",
    "def prepare(filepath):\n",
    "    IMG_SIZE=50\n",
    "    try:\n",
    "        img_array = cv2.imread(filepath , cv2.IMREAD_GRAYSCALE)\n",
    "        new_array = cv2.resize(img_array, (IMG_SIZE,IMG_SIZE))\n",
    "        plt.imshow(new_array, cmap = 'gray')\n",
    "        plt.show()\n",
    "        return new_array.reshape(-1,IMG_SIZE,IMG_SIZE,1)\n",
    "    except Exception as e:\n",
    "        print(str(e))\n",
    "        \n",
    "prepare('cat1.jpg')"
   ]
  },
  {
   "cell_type": "code",
   "execution_count": 60,
   "metadata": {},
   "outputs": [
    {
     "data": {
      "image/png": "[encoded data removed]",
      "text/plain": [
       "<Figure size 432x288 with 1 Axes>"
      ]
     },
     "metadata": {
      "needs_background": "light"
     },
     "output_type": "display_data"
    },
    {
     "name": "stdout",
     "output_type": "stream",
     "text": [
      "WARNING:tensorflow:11 out of the last 11 calls to <function Model.make_predict_function.<locals>.predict_function at 0x000002B4B00BD310> triggered tf.function retracing. Tracing is expensive and the excessive number of tracings could be due to (1) creating @tf.function repeatedly in a loop, (2) passing tensors with different shapes, (3) passing Python objects instead of tensors. For (1), please define your @tf.function outside of the loop. For (2), @tf.function has experimental_relax_shapes=True option that relaxes argument shapes that can avoid unnecessary retracing. For (3), please refer to https://www.tensorflow.org/tutorials/customization/performance#python_or_tensor_args and https://www.tensorflow.org/api_docs/python/tf/function for  more details.\n",
      "Cat\n"
     ]
    }
   ],
   "source": [
    "model = tf.keras.models.load_model(\"64x3-CNN.model\")\n",
    "\n",
    "prediction = model.predict([prepare('dog3.jpg')])\n",
    "print(CATEGORIES[int(prediction[0][0])])"
   ]
  },
  {
   "cell_type": "code",
   "execution_count": null,
   "metadata": {},
   "outputs": [],
   "source": []
  },
  {
   "cell_type": "code",
   "execution_count": null,
   "metadata": {},
   "outputs": [],
   "source": []
  }
 ],
 "metadata": {
  "kernelspec": {
   "display_name": "Python 3",
   "language": "python",
   "name": "python3"
  },
  "language_info": {
   "codemirror_mode": {
    "name": "ipython",
    "version": 3
   },
   "file_extension": ".py",
   "mimetype": "text/x-python",
   "name": "python",
   "nbconvert_exporter": "python",
   "pygments_lexer": "ipython3",
   "version": "3.8.3"
  }
 },
 "nbformat": 4,
 "nbformat_minor": 4
}
